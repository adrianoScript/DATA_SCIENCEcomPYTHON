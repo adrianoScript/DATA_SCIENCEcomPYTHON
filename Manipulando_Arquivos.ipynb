{
  "nbformat": 4,
  "nbformat_minor": 0,
  "metadata": {
    "colab": {
      "name": "Cópia de Relatórios da Empresa",
      "provenance": [],
      "include_colab_link": true
    },
    "kernelspec": {
      "name": "python3",
      "display_name": "Python 3"
    }
  },
  "cells": [
    {
      "cell_type": "markdown",
      "metadata": {
        "id": "view-in-github",
        "colab_type": "text"
      },
      "source": [
        "<a href=\"https://colab.research.google.com/github/adrianoScript/DATA_SCIENCEcomPYTHON/blob/main/Manipulando_Arquivos.ipynb\" target=\"_parent\"><img src=\"https://colab.research.google.com/assets/colab-badge.svg\" alt=\"Open In Colab\"/></a>"
      ]
    },
    {
      "cell_type": "markdown",
      "metadata": {
        "id": "fxBBG9YX_Tbg"
      },
      "source": [
        "\n",
        "\n",
        "#### **DATA_SCIENCE com PYTHON**\n",
        "*by [Veja aqui](https://www.tutorialsteacher.com/python/os-module)*\n",
        "\n",
        "---\n",
        "\n",
        "## Relatórios da Empresa\n",
        "\n",
        "Agora que temos as ferramentas e o conhecimento para usá-las, é hora de botar a mão na massa, e botar todo o poder de tudo que aprendemos pra funcionar na prática.\n",
        "\n",
        "\n",
        "<center><img width=\"50%\" src=\"https://image.freepik.com/free-photo/workplace-results-professional-report-accounting-during_1418-61.jpg\"></center>\n",
        "\n",
        "Em nossa jornada rumo à automação de tarefas repetitivas em nossa rotina de trabalho, vamos aprender a extrair e utilizar informações úteis de nossos documentos.\n",
        "\n",
        "Mais uma vez utilizando a biblioteca [PDF Plumber](https://github.com/jsvine/pdfplumber) vamos extrair e manipular informações de diversos relatórios em pdf ao mesmo tempo.\n",
        "\n",
        "Para isso, vamos precisar fazer o download dos arquivos de apoio que foram disponibilizados como material complementar dessa aula. \n",
        "\n",
        "Lembrando: Nativamente, o Google Colab não possui essa biblioteca instalada, então nós precisamos instalar a mesma no nosso ambiente.\n",
        "\n",
        "Para isso, vamos utilizar o gerenciador de pacotes `pip`, e com o comando `install` vamos instalar a biblioteca."
      ]
    },
    {
      "cell_type": "code",
      "metadata": {
        "id": "I2_7tlvJtpm-",
        "colab": {
          "base_uri": "https://localhost:8080/"
        },
        "outputId": "aaed80f8-758f-429e-b278-c8a6ad14a683"
      },
      "source": [
        "# instalando o pdfplumber\n",
        "!pip install pdfplumber"
      ],
      "execution_count": 22,
      "outputs": [
        {
          "output_type": "stream",
          "name": "stdout",
          "text": [
            "Requirement already satisfied: pdfplumber in /usr/local/lib/python3.7/dist-packages (0.5.28)\n",
            "Requirement already satisfied: Wand in /usr/local/lib/python3.7/dist-packages (from pdfplumber) (0.6.7)\n",
            "Requirement already satisfied: Pillow>=7.0.0 in /usr/local/lib/python3.7/dist-packages (from pdfplumber) (7.1.2)\n",
            "Requirement already satisfied: pdfminer.six==20200517 in /usr/local/lib/python3.7/dist-packages (from pdfplumber) (20200517)\n",
            "Requirement already satisfied: chardet in /usr/local/lib/python3.7/dist-packages (from pdfminer.six==20200517->pdfplumber) (3.0.4)\n",
            "Requirement already satisfied: sortedcontainers in /usr/local/lib/python3.7/dist-packages (from pdfminer.six==20200517->pdfplumber) (2.4.0)\n",
            "Requirement already satisfied: pycryptodome in /usr/local/lib/python3.7/dist-packages (from pdfminer.six==20200517->pdfplumber) (3.11.0)\n"
          ]
        }
      ]
    },
    {
      "cell_type": "code",
      "metadata": {
        "id": "7bBtbhLftg2k",
        "colab": {
          "base_uri": "https://localhost:8080/"
        },
        "outputId": "52caeb26-c9c7-45d9-8eb3-a17f09fc04cb"
      },
      "source": [
        "# importando os pacotes necessários\n",
        "from google.colab import drive\n",
        "import pdfplumber\n",
        "import os\n",
        "\n",
        "# montando o drive\n",
        "drive.mount('/content/gdrive')"
      ],
      "execution_count": 2,
      "outputs": [
        {
          "output_type": "stream",
          "name": "stdout",
          "text": [
            "Mounted at /content/gdrive\n"
          ]
        }
      ]
    },
    {
      "cell_type": "markdown",
      "metadata": {
        "id": "6kSCw5AHBWjn"
      },
      "source": [
        "Assim que montamos o nosso drive, estamos na raiz dele. Atente-se sempre para o caminho que leva ao arquivo que você deseja acessar.\n",
        "\n",
        "Você pode fazer o upload em qualquer lugar no seu drive. Sabendo o caminho, fica fácil acessar. \n",
        "\n",
        "Normalmente, aquela tela inicial do seu drive é `/content/gdrive/My Drive`. \n",
        "\n",
        "Aqui, eu criei uma pasta `relatorios`, onde todos os arquivos de relatórios estão. Para acessar essa pasta, o caminho é:\n",
        "\n",
        "<center> /content/gdrive/My Drive/relatorios</center>\n",
        "\n",
        "Portanto, usando o método *Change Directory* através do comando `chdir` da biblioteca `os`, vamos navegar até a pasta onde se encontram os arquivos que desejamos usar."
      ]
    },
    {
      "cell_type": "code",
      "metadata": {
        "id": "ZaF8aKhZt04p"
      },
      "source": [
        "# mudar para diretório com pdfs da semana\n",
        "os.chdir(\"/content/gdrive/MyDrive/Sigmoidal/Módulo 2 - Manipulando Arquivos/relatorios\")"
      ],
      "execution_count": 4,
      "outputs": []
    },
    {
      "cell_type": "markdown",
      "metadata": {
        "id": "msLIW_VVCbwV"
      },
      "source": [
        "É sempre bom garantir logo que você chegou ao diretório que deseja, antes de dar continuidade ao projeto e se deparar com erros que você não saberão a origem. Ela pode estar aqui.\n",
        "\n",
        "Para isso, mais uma vez utilizamos a biblioteca `os`, com o comando `getcwd`."
      ]
    },
    {
      "cell_type": "code",
      "metadata": {
        "id": "oshXfAkCuQl5",
        "colab": {
          "base_uri": "https://localhost:8080/",
          "height": 35
        },
        "outputId": "66b9f88c-fe85-4562-89c5-140798775f31"
      },
      "source": [
        "# checar se estou no diretório correto\n",
        "os.getcwd()"
      ],
      "execution_count": 5,
      "outputs": [
        {
          "output_type": "execute_result",
          "data": {
            "application/vnd.google.colaboratory.intrinsic+json": {
              "type": "string"
            },
            "text/plain": [
              "'/content/gdrive/MyDrive/Sigmoidal/Módulo 2 - Manipulando Arquivos/relatorios'"
            ]
          },
          "metadata": {},
          "execution_count": 5
        }
      ]
    },
    {
      "cell_type": "markdown",
      "metadata": {
        "id": "Vl9EpAzXCsV4"
      },
      "source": [
        "Estamos no repositório correto. Para conferir os arquivos que temos dentro desse diretório, podemos usar o método `listdir`, que nos retorna uma lista do conteúdo do repositórios em que estamos.\n",
        "\n",
        "Vamos salvar essa informação em uma variável para que possamos acessar esses arquivos facilmente mais pra frente."
      ]
    },
    {
      "cell_type": "code",
      "metadata": {
        "id": "gDiO-AOvuTwL",
        "colab": {
          "base_uri": "https://localhost:8080/"
        },
        "outputId": "d7195f16-2854-47e1-cf3b-c20e6d5d5ca8"
      },
      "source": [
        "# imprimir lista com arquivos no diretório\n",
        "arquivos_semana = os.listdir()\n",
        "print(arquivos_semana)"
      ],
      "execution_count": 6,
      "outputs": [
        {
          "output_type": "stream",
          "name": "stdout",
          "text": [
            "['20200801.pdf', '20200802.pdf', '20200803.pdf', '20200804.pdf', '20200805.pdf']\n"
          ]
        }
      ]
    },
    {
      "cell_type": "markdown",
      "metadata": {
        "id": "mMsrbV89De2z"
      },
      "source": [
        "## Manipulando Relatórios\n",
        "\n",
        "Com todo o conteúdo à disposição, é hora de começar a manipular esses arquivos.\n",
        "\n",
        "Aqui, voltaremos a usar a biblioteca `pdfplumber`, que irá nos ajudar a manipular arquivos no formato pdf."
      ]
    },
    {
      "cell_type": "code",
      "metadata": {
        "id": "0e20tx0LuXJG"
      },
      "source": [
        "# abrir um relatório de exemplo\n",
        "relatorio = pdfplumber.open(\"/content/gdrive/MyDrive/Sigmoidal/Módulo 2 - Manipulando Arquivos/relatorios/20200801.pdf\")"
      ],
      "execution_count": 8,
      "outputs": []
    },
    {
      "cell_type": "markdown",
      "metadata": {
        "id": "6e0IXIJDD4bk"
      },
      "source": [
        "Lembre-se: Mesmo que o arquivo tenha apenas uma página, sempre precisamos definir em que página iremos trabalhar.\n",
        "\n",
        "Vamos abrir a primeira página, e gravar essa informação em uma variável.\n",
        "\n",
        "Como a contagem começa em `0`, a primeira página do nosso arquivo está na posição `[0]`."
      ]
    },
    {
      "cell_type": "code",
      "metadata": {
        "id": "xA9BFSc1u3uo"
      },
      "source": [
        "# abrir a primeira pagina do relatorio\n",
        "pagina = relatorio.pages[0]"
      ],
      "execution_count": 9,
      "outputs": []
    },
    {
      "cell_type": "markdown",
      "metadata": {
        "id": "DSOMKSBcEM-B"
      },
      "source": [
        "Mais uma vez, utilizaremos a função `extract_text()` para extrair as informações contidas no arquivo."
      ]
    },
    {
      "cell_type": "code",
      "metadata": {
        "id": "EncL3LP1vEmf",
        "colab": {
          "base_uri": "https://localhost:8080/"
        },
        "outputId": "1a398dae-66a0-4f6c-ec88-51c88a7ea664"
      },
      "source": [
        "# extrair o texto da primeira página do primeiro relatório\n",
        "texto = pagina.extract_text()\n",
        "print(texto)"
      ],
      "execution_count": 10,
      "outputs": [
        {
          "output_type": "stream",
          "name": "stdout",
          "text": [
            "SIGMOIDAL\t\n",
            "\t \t\n",
            "Relatório\tDiário\t\n",
            "Data:\t01/08/2020\t\n",
            "\t\n",
            "\t\n",
            "RECEITA:\tR$\t1297.00\t\n",
            "DADOS\tATUALIZADOS\tPOR\tCARLOS\tMELO\t\n",
            "\t\n",
            "\t\n",
            "Visitantes:\t1367\t\n",
            "A\tquantidade\tde\tvisitantes\tdiz\trespeito\ta\tvisitantes\túnicos\tvisitando\tqualquer\t\n",
            "página\tdo\tdomínio\tou\tsubdomínio\tsigmoidal.ai.\tCompreende,\tentão,\tcursos,\t\n",
            "blogs\te\tlanding\tpages.\t\n",
            "\t\n",
            "Inscritos:\t33\t\n",
            "É\tconsiderado\taqui\to\tnúmero\tde\tleads\tgerados\tpor\tmeio\tde\tcadastro\t\n",
            "voluntário\tnos\tformulários\tdo\tcabeçalho,\trodapé\tou\tmateriais\tricos\t(como\t\n",
            "eBook,\tinfográficos,\tentre\toutros).\t\n",
            "\t\n",
            "Assinantes:\t6\t\n",
            "Clientes\tassinantes\tda\tEscola\tde\tData\tScience,\tconsiderando-se\to\tplano\t\n",
            "renovável\tde\tassinatura\tmensal.\t\n",
            "\t\n"
          ]
        }
      ]
    },
    {
      "cell_type": "markdown",
      "metadata": {
        "id": "OPDHBguREW5m"
      },
      "source": [
        "Para visualização, o processo feito acima já nos atende perfeitamente. Todas as informações estão visíveis e claras, facilitando muito a leitura das informações.\n",
        "\n",
        "Entretanto, não é assim que o Phython enxerga o que foi mostrado acima. E para que possamos manipular os dados contidos nesse arquivo e extrair deles as informações que precisamos, é necessário entender como o Python lida com esses dados."
      ]
    },
    {
      "cell_type": "markdown",
      "metadata": {
        "id": "6YyXoAuoEr8o"
      },
      "source": [
        "## Strings\n",
        "O tipo de dado que estamos utilizando aqui chama-se `String`, como já vimos em aulas anteriores. \n",
        "\n",
        "`Strings` são o tipo de dado que utilizamos para lidar com palavras, letras, textos, enfim, nossa linguagem natural.\n",
        "\n",
        "Nós ainda iremos ver em mais detalhes as formas de manipular as strings, mas em bom estilo Sigmoidal, vamos ver como utilizaremos essas manipulações na prática, para que possamos nos aprofundar em seguida."
      ]
    },
    {
      "cell_type": "markdown",
      "metadata": {
        "id": "rdFWDKtXGk0a"
      },
      "source": [
        "O texto é recebido pelo Python incluindo símbolos que representam:\n",
        "* `\\t` : a telca tab (Espaço entre palavras)\n",
        "* `\\n`: a tecla enter (Quebra de linha)"
      ]
    },
    {
      "cell_type": "code",
      "metadata": {
        "id": "FG2PC3FvxplA",
        "colab": {
          "base_uri": "https://localhost:8080/",
          "height": 69
        },
        "outputId": "dc5a0f72-0b65-4ada-f2f4-3b9ad578ab90"
      },
      "source": [
        "# olhe como chega o texto\n",
        "texto"
      ],
      "execution_count": 11,
      "outputs": [
        {
          "output_type": "execute_result",
          "data": {
            "application/vnd.google.colaboratory.intrinsic+json": {
              "type": "string"
            },
            "text/plain": [
              "'SIGMOIDAL\\t\\n\\t \\t\\nRelatório\\tDiário\\t\\nData:\\t01/08/2020\\t\\n\\t\\n\\t\\nRECEITA:\\tR$\\t1297.00\\t\\nDADOS\\tATUALIZADOS\\tPOR\\tCARLOS\\tMELO\\t\\n\\t\\n\\t\\nVisitantes:\\t1367\\t\\nA\\tquantidade\\tde\\tvisitantes\\tdiz\\trespeito\\ta\\tvisitantes\\túnicos\\tvisitando\\tqualquer\\t\\npágina\\tdo\\tdomínio\\tou\\tsubdomínio\\tsigmoidal.ai.\\tCompreende,\\tentão,\\tcursos,\\t\\nblogs\\te\\tlanding\\tpages.\\t\\n\\t\\nInscritos:\\t33\\t\\nÉ\\tconsiderado\\taqui\\to\\tnúmero\\tde\\tleads\\tgerados\\tpor\\tmeio\\tde\\tcadastro\\t\\nvoluntário\\tnos\\tformulários\\tdo\\tcabeçalho,\\trodapé\\tou\\tmateriais\\tricos\\t(como\\t\\neBook,\\tinfográficos,\\tentre\\toutros).\\t\\n\\t\\nAssinantes:\\t6\\t\\nClientes\\tassinantes\\tda\\tEscola\\tde\\tData\\tScience,\\tconsiderando-se\\to\\tplano\\t\\nrenovável\\tde\\tassinatura\\tmensal.\\t\\n\\t'"
            ]
          },
          "metadata": {},
          "execution_count": 11
        }
      ]
    },
    {
      "cell_type": "markdown",
      "metadata": {
        "id": "g-8G5WpiIPrq"
      },
      "source": [
        "### split()\n",
        "\n",
        "Utilizando o método split, nós podemos dizer ao Python que separe o texto a partir de um argumento que passaremos dentro dos parênteses. Nesse caso, vamos ver como ficaria o texto, caso fizéssemos o split a partir das linhas."
      ]
    },
    {
      "cell_type": "code",
      "metadata": {
        "id": "NoEUS0xPwBps",
        "colab": {
          "base_uri": "https://localhost:8080/"
        },
        "outputId": "5b7d3013-6a70-4e52-d4b5-d2ab12d3f14a"
      },
      "source": [
        "# dividindo o texto por linhas\n",
        "texto.split(\"\\n\")"
      ],
      "execution_count": 12,
      "outputs": [
        {
          "output_type": "execute_result",
          "data": {
            "text/plain": [
              "['SIGMOIDAL\\t',\n",
              " '\\t \\t',\n",
              " 'Relatório\\tDiário\\t',\n",
              " 'Data:\\t01/08/2020\\t',\n",
              " '\\t',\n",
              " '\\t',\n",
              " 'RECEITA:\\tR$\\t1297.00\\t',\n",
              " 'DADOS\\tATUALIZADOS\\tPOR\\tCARLOS\\tMELO\\t',\n",
              " '\\t',\n",
              " '\\t',\n",
              " 'Visitantes:\\t1367\\t',\n",
              " 'A\\tquantidade\\tde\\tvisitantes\\tdiz\\trespeito\\ta\\tvisitantes\\túnicos\\tvisitando\\tqualquer\\t',\n",
              " 'página\\tdo\\tdomínio\\tou\\tsubdomínio\\tsigmoidal.ai.\\tCompreende,\\tentão,\\tcursos,\\t',\n",
              " 'blogs\\te\\tlanding\\tpages.\\t',\n",
              " '\\t',\n",
              " 'Inscritos:\\t33\\t',\n",
              " 'É\\tconsiderado\\taqui\\to\\tnúmero\\tde\\tleads\\tgerados\\tpor\\tmeio\\tde\\tcadastro\\t',\n",
              " 'voluntário\\tnos\\tformulários\\tdo\\tcabeçalho,\\trodapé\\tou\\tmateriais\\tricos\\t(como\\t',\n",
              " 'eBook,\\tinfográficos,\\tentre\\toutros).\\t',\n",
              " '\\t',\n",
              " 'Assinantes:\\t6\\t',\n",
              " 'Clientes\\tassinantes\\tda\\tEscola\\tde\\tData\\tScience,\\tconsiderando-se\\to\\tplano\\t',\n",
              " 'renovável\\tde\\tassinatura\\tmensal.\\t',\n",
              " '\\t']"
            ]
          },
          "metadata": {},
          "execution_count": 12
        }
      ]
    },
    {
      "cell_type": "markdown",
      "metadata": {
        "id": "SwryYhAlIfsI"
      },
      "source": [
        "Agora que sabemos uma forma de separar os dados, vamos buscar a informação que estamos buscando: a receita do dia.\n",
        "\n",
        "Analisando o output de cima, conseguimos identificar que essa informação está contida na sétima posição, que se encontra no índice 6, já que começamos a contagem do 0.\n",
        "\n",
        "Aqui, vamos fazer o split, como havíamos feito anteriormente, mas somente na linha [6]."
      ]
    },
    {
      "cell_type": "code",
      "metadata": {
        "id": "ikyDmT8dwKJi",
        "colab": {
          "base_uri": "https://localhost:8080/",
          "height": 35
        },
        "outputId": "e53561f3-730e-4d74-8c0c-8859b573c369"
      },
      "source": [
        "# vendas sempre aparecem na 7a posição (indice 6)\n",
        "texto.split(\"\\n\")[6]"
      ],
      "execution_count": 13,
      "outputs": [
        {
          "output_type": "execute_result",
          "data": {
            "application/vnd.google.colaboratory.intrinsic+json": {
              "type": "string"
            },
            "text/plain": [
              "'RECEITA:\\tR$\\t1297.00\\t'"
            ]
          },
          "metadata": {},
          "execution_count": 13
        }
      ]
    },
    {
      "cell_type": "markdown",
      "metadata": {
        "id": "8rFJQ4OYI3Ea"
      },
      "source": [
        "### replace()\n",
        "\n",
        "Em inglês, `replace` significar substituir, e é exatamente isso que esse método faz. Utilizaremos ele para apagar as tabulações, que estão atrapalhando nossa visualização."
      ]
    },
    {
      "cell_type": "code",
      "metadata": {
        "id": "t57gS-r1wNYn",
        "colab": {
          "base_uri": "https://localhost:8080/",
          "height": 35
        },
        "outputId": "49fd81af-ee6e-49eb-f08e-2e8310fe9e53"
      },
      "source": [
        "# retirando tabulações\n",
        "texto.split(\"\\n\")[6].replace(\"\\t\", \"\")"
      ],
      "execution_count": 14,
      "outputs": [
        {
          "output_type": "execute_result",
          "data": {
            "application/vnd.google.colaboratory.intrinsic+json": {
              "type": "string"
            },
            "text/plain": [
              "'RECEITA:R$1297.00'"
            ]
          },
          "metadata": {},
          "execution_count": 14
        }
      ]
    },
    {
      "cell_type": "markdown",
      "metadata": {
        "id": "py1HkAUOJJe1"
      },
      "source": [
        "Avançando na extração da informação, podemos utilizar o split para separar o que vem antes e depois do R$. \n",
        "\n",
        "Nós sabemos que esses dados estão em reais brasileiros, e estamos interessados apenas na parte numérica, por isso, ele não é relevante nesse momento. Vamos retirá-lo."
      ]
    },
    {
      "cell_type": "code",
      "metadata": {
        "id": "jgnXhTQEwU99",
        "colab": {
          "base_uri": "https://localhost:8080/"
        },
        "outputId": "4cdfd61f-3fff-43f0-f7c8-36a38a97fb8d"
      },
      "source": [
        "# como queremos o que vem depois do R$, pode ser usado str.split(\"R$\")\n",
        "texto.split(\"\\n\")[6].replace(\"\\t\", \"\").split(\"R$\")"
      ],
      "execution_count": 15,
      "outputs": [
        {
          "output_type": "execute_result",
          "data": {
            "text/plain": [
              "['RECEITA:', '1297.00']"
            ]
          },
          "metadata": {},
          "execution_count": 15
        }
      ]
    },
    {
      "cell_type": "markdown",
      "metadata": {
        "id": "roiEmJxbJYNr"
      },
      "source": [
        "Como mencionamos anteriormente, estamos lidando com `strings`. \n",
        "\n",
        "Entretanto, estamos aqui para extrair e manipular números. Para que possamos fazer as operações necessárias, precisamos converter nosso resultado para uma forma numérica.\n",
        "\n",
        "Como estamos lidando com moedas, que possuem casa decimal, vamos utilizar o formato `float`.\n",
        "\n",
        "Veja a difereneça no resultado das operações caso não façamos a conversão:"
      ]
    },
    {
      "cell_type": "code",
      "metadata": {
        "id": "8Nv_JoiuJ5N1",
        "colab": {
          "base_uri": "https://localhost:8080/"
        },
        "outputId": "99cd2e9a-ecd7-4898-8d5b-aa65aff4ae64"
      },
      "source": [
        "# somando strings\n",
        "strings = \"1\" + \"1\"\n",
        "print('Soma de Strings: ', strings)\n",
        "\n",
        "# somando floats\n",
        "floats = 1.0 + 1.0\n",
        "print('Soma de Floats: ', floats)"
      ],
      "execution_count": 16,
      "outputs": [
        {
          "output_type": "stream",
          "name": "stdout",
          "text": [
            "Soma de Strings:  11\n",
            "Soma de Floats:  2.0\n"
          ]
        }
      ]
    },
    {
      "cell_type": "markdown",
      "metadata": {
        "id": "sENkMtPfKL5g"
      },
      "source": [
        "Para que possamos realizar operações matemáticas, precisamos converter esses números de strings, para um formato numérico.\n",
        "\n",
        "No nosso caso, como mencionamos, utilizaremos o formato float."
      ]
    },
    {
      "cell_type": "code",
      "metadata": {
        "id": "ZYSqUYb2waEj",
        "colab": {
          "base_uri": "https://localhost:8080/",
          "height": 35
        },
        "outputId": "f9664508-c21e-4264-a253-6ad41d1eda88"
      },
      "source": [
        "# valor ainda é string\n",
        "texto.split(\"\\n\")[6].replace(\"\\t\", \"\").split(\"R$\")[1]"
      ],
      "execution_count": 17,
      "outputs": [
        {
          "output_type": "execute_result",
          "data": {
            "application/vnd.google.colaboratory.intrinsic+json": {
              "type": "string"
            },
            "text/plain": [
              "'1297.00'"
            ]
          },
          "metadata": {},
          "execution_count": 17
        }
      ]
    },
    {
      "cell_type": "code",
      "metadata": {
        "id": "IPNxxZaEx6wK",
        "colab": {
          "base_uri": "https://localhost:8080/"
        },
        "outputId": "546f64f9-bb2f-42ee-f455-d6e12f8eaa9b"
      },
      "source": [
        "# transformando em float\n",
        "float(texto.split(\"\\n\")[6].replace(\"\\t\", \"\").split(\"R$\")[1])"
      ],
      "execution_count": 18,
      "outputs": [
        {
          "output_type": "execute_result",
          "data": {
            "text/plain": [
              "1297.0"
            ]
          },
          "metadata": {},
          "execution_count": 18
        }
      ]
    },
    {
      "cell_type": "markdown",
      "metadata": {
        "id": "rCzyiWc7x9lv"
      },
      "source": [
        "## Automatizando a Soma de Receita dos Relatórios\n",
        "\n",
        "Agora que sabemos como abrir, ler, e manipular os relatórios para extrair a receita de cada arquivo, é hora de criarmos uma função para fazer tudo isso pra nós.\n",
        "\n",
        "Basicamente, essa função vai iterar sobre nossos relatórios, fazer todos os passos que fizemos anteriormente, e extrair o valor de receita contido em cada um desses. Após receber os valores, ela vai somá-los, e nos retornar a receita total dos últimos 5 dias."
      ]
    },
    {
      "cell_type": "code",
      "metadata": {
        "id": "NraRRv5iWzt3",
        "colab": {
          "base_uri": "https://localhost:8080/"
        },
        "outputId": "8b78377b-1a21-457f-c32a-7e92927e7dd3"
      },
      "source": [
        "soma_teste = 0\n",
        "\n",
        "for letra in [1, 10, 34, 99]:\n",
        "    soma_teste = soma_teste + letra\n",
        "    print(soma_teste)"
      ],
      "execution_count": 19,
      "outputs": [
        {
          "output_type": "stream",
          "name": "stdout",
          "text": [
            "1\n",
            "11\n",
            "45\n",
            "144\n"
          ]
        }
      ]
    },
    {
      "cell_type": "code",
      "metadata": {
        "id": "gCuEMJGWwdN1",
        "colab": {
          "base_uri": "https://localhost:8080/"
        },
        "outputId": "6f6c142c-354e-45fc-ddf6-4c4e20b7e703"
      },
      "source": [
        "# criando um contador\n",
        "soma = 0\n",
        "\n",
        "# criando a função\n",
        "for arquivo in arquivos_semana:\n",
        "    relatorio = pdfplumber.open(arquivo)\n",
        "    pagina = relatorio.pages[0]\n",
        "    texto = pagina.extract_text()\n",
        "    valor = texto.split(\"\\n\")[6].replace(\"\\t\", \"\").split(\"R$\")[1]\n",
        "    valor = float(valor)\n",
        "    soma = soma + valor\n",
        "    print(arquivo, \"--->\", valor)\n"
      ],
      "execution_count": 20,
      "outputs": [
        {
          "output_type": "stream",
          "name": "stdout",
          "text": [
            "20200801.pdf ---> 1297.0\n",
            "20200802.pdf ---> 537.0\n",
            "20200803.pdf ---> 554.0\n",
            "20200804.pdf ---> 2554.0\n",
            "20200805.pdf ---> 154.0\n"
          ]
        }
      ]
    },
    {
      "cell_type": "markdown",
      "metadata": {
        "id": "LwEvr8j1LnrC"
      },
      "source": [
        "Após visualizar o total de cada dia, vamos ver como ficou a soma:"
      ]
    },
    {
      "cell_type": "code",
      "metadata": {
        "id": "Qi-V_Hyzwinm",
        "colab": {
          "base_uri": "https://localhost:8080/"
        },
        "outputId": "6ce59ded-4a93-4870-cfe8-8558a286b3ca"
      },
      "source": [
        "#soma total\n",
        "print('Receita dos Últimos 5 dias: R$',soma)"
      ],
      "execution_count": 21,
      "outputs": [
        {
          "output_type": "stream",
          "name": "stdout",
          "text": [
            "Receita dos Últimos 5 dias: R$ 5096.0\n"
          ]
        }
      ]
    }
  ]
}